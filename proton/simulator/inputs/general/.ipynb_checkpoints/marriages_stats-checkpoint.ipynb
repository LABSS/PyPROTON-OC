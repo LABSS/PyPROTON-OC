{
 "cells": [
  {
   "cell_type": "code",
   "execution_count": 54,
   "metadata": {},
   "outputs": [],
   "source": [
    "import xlrd\n",
    "import pandas as pd"
   ]
  },
  {
   "cell_type": "code",
   "execution_count": 39,
   "metadata": {},
   "outputs": [
    {
     "data": {
      "text/plain": [
       "['Tavola 3.3', 'Tavola 3.3 (segue 1)', 'Tavola 3.3 (segue 2)']"
      ]
     },
     "execution_count": 39,
     "metadata": {},
     "output_type": "execute_result"
    }
   ],
   "source": [
    "# source: http://seriestoriche.istat.it/index.php?id=1&no_cache=1&tx_usercento_centofe%5Bcategoria%5D=3&tx_usercento_centofe%5Baction%5D=show&tx_usercento_centofe%5Bcontroller%5D=Categoria&cHash=ac047678dfcd1a32f2e1ae225122c17e\n",
    "book = xlrd.open_workbook(filename=\"raw/matrimoni.xls\")\n",
    "# convert to pd \n",
    "xs = pd.ExcelFile(book, engine='xlrd')\n",
    "# check sheet names\n",
    "xs.sheet_names"
   ]
  },
  {
   "cell_type": "code",
   "execution_count": 55,
   "metadata": {},
   "outputs": [
    {
     "data": {
      "text/html": [
       "<div>\n",
       "<style>\n",
       "    .dataframe thead tr:only-child th {\n",
       "        text-align: right;\n",
       "    }\n",
       "\n",
       "    .dataframe thead th {\n",
       "        text-align: left;\n",
       "    }\n",
       "\n",
       "    .dataframe tbody tr th {\n",
       "        vertical-align: top;\n",
       "    }\n",
       "</style>\n",
       "<table border=\"1\" class=\"dataframe\">\n",
       "  <thead>\n",
       "    <tr style=\"text-align: right;\">\n",
       "      <th></th>\n",
       "      <th># marriages</th>\n",
       "      <th>marriages 1000 persons</th>\n",
       "    </tr>\n",
       "    <tr>\n",
       "      <th>date</th>\n",
       "      <th></th>\n",
       "      <th></th>\n",
       "    </tr>\n",
       "  </thead>\n",
       "  <tbody>\n",
       "    <tr>\n",
       "      <th>1981</th>\n",
       "      <td>316953</td>\n",
       "      <td>5.609621</td>\n",
       "    </tr>\n",
       "    <tr>\n",
       "      <th>1982</th>\n",
       "      <td>312486</td>\n",
       "      <td>5.526466</td>\n",
       "    </tr>\n",
       "    <tr>\n",
       "      <th>1983</th>\n",
       "      <td>303663</td>\n",
       "      <td>5.368478</td>\n",
       "    </tr>\n",
       "    <tr>\n",
       "      <th>1984</th>\n",
       "      <td>300889</td>\n",
       "      <td>5.318248</td>\n",
       "    </tr>\n",
       "    <tr>\n",
       "      <th>1985</th>\n",
       "      <td>298523</td>\n",
       "      <td>5.274904</td>\n",
       "    </tr>\n",
       "  </tbody>\n",
       "</table>\n",
       "</div>"
      ],
      "text/plain": [
       "     # marriages  marriages 1000 persons\n",
       "date                                    \n",
       "1981      316953                5.609621\n",
       "1982      312486                5.526466\n",
       "1983      303663                5.368478\n",
       "1984      300889                5.318248\n",
       "1985      298523                5.274904"
      ]
     },
     "execution_count": 55,
     "metadata": {},
     "output_type": "execute_result"
    }
   ],
   "source": [
    "# convert to df the last sheet\n",
    "df = xs.parse(xs.sheet_names[ -1 ], header=None, skiprows=8)\n",
    "df = df.drop([ 3, 4, 5, 6, 7, 8 ], axis=1)\n",
    "df = df.drop([ 34, 35, 36 ])\n",
    "df.columns = [ 'date','# marriages', 'marriages 1000 persons' ]\n",
    "df.set_index('date', inplace=True)\n",
    "df.head()"
   ]
  },
  {
   "cell_type": "code",
   "execution_count": 61,
   "metadata": {},
   "outputs": [],
   "source": [
    "# find average and sd on 1000 persons\n",
    "stats = pd.DataFrame({'mean_marriages': [df['marriages 1000 persons'].mean()],\n",
    "                      'std_marriages': [df['marriages 1000 persons'].std()]\n",
    "                     })"
   ]
  },
  {
   "cell_type": "code",
   "execution_count": 63,
   "metadata": {},
   "outputs": [],
   "source": [
    "stats.to_csv(\"data/marriages_stats.csv\", header=True, index=None)"
   ]
  },
  {
   "cell_type": "code",
   "execution_count": null,
   "metadata": {},
   "outputs": [],
   "source": []
  }
 ],
 "metadata": {
  "kernelspec": {
   "display_name": "Python 3",
   "language": "python",
   "name": "python3"
  },
  "language_info": {
   "codemirror_mode": {
    "name": "ipython",
    "version": 3
   },
   "file_extension": ".py",
   "mimetype": "text/x-python",
   "name": "python",
   "nbconvert_exporter": "python",
   "pygments_lexer": "ipython3",
   "version": "3.6.3"
  }
 },
 "nbformat": 4,
 "nbformat_minor": 2
}
